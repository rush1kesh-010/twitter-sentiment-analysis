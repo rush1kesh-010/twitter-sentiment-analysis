{
 "cells": [
  {
   "cell_type": "code",
   "execution_count": 2,
   "metadata": {},
   "outputs": [],
   "source": [
    "import numpy as np\n",
    "import pandas as pd\n",
    "import joblib\n",
    "from vaderSentiment.vaderSentiment import SentimentIntensityAnalyzer\n",
    "from sklearn.feature_extraction.text import TfidfVectorizer\n",
    "from scipy.sparse import save_npz, load_npz\n",
    "from sklearn.linear_model import LogisticRegression\n",
    "from sklearn.metrics import classification_report, accuracy_score, confusion_matrix\n",
    "from scipy.sparse import hstack\n",
    "\n",
    "\n"
   ]
  },
  {
   "cell_type": "code",
   "execution_count": null,
   "metadata": {},
   "outputs": [],
   "source": [
    "# Load preprocessed data\n",
    "X_train = np.load('../data/processed/X_train.npy', allow_pickle=True)\n",
    "X_test = np.load('../data/processed/X_test.npy', allow_pickle=True)\n",
    "\n",
    "# convert to pandas dataframes\n",
    "train_df = pd.DataFrame(X_train, columns=['text'])\n",
    "test_df = pd.DataFrame(X_test, columns=['text'])\n",
    "\n",
    "analyzer = SentimentIntensityAnalyzer()\n",
    "\n",
    "# Add VADER sentiment scores\n",
    "train_df['vader_score'] = train_df['text'].apply(lambda x: analyzer.polarity_scores(x)['compound'])\n",
    "test_df['vader_score'] = test_df['text'].apply(lambda x: analyzer.polarity_scores(x)['compound'])\n",
    "\n",
    "# Add tweet length\n",
    "train_df['tweet_length'] = train_df['text'].apply(len)\n",
    "test_df['tweet_length'] = test_df['text'].apply(len)\n",
    "\n",
    "# Vectorize text\n",
    "vectorizer = TfidfVectorizer(max_features=10000)\n",
    "train_tfidf = vectorizer.fit_transform(train_df['text'])\n",
    "test_tfidf = vectorizer.transform(test_df['text'])\n",
    "joblib.dump(vectorizer, '../models/vectorizer.pkl')\n",
    "\n",
    "# Combine VADER sentiment scores and tweet length as additional features\n",
    "train_additional_features = train_df[['vader_score', 'tweet_length']].values\n",
    "test_additional_features = test_df[['vader_score', 'tweet_length']].values\n",
    "\n",
    "# Combine TF-IDF features with additional features\n",
    "train_feat_vect = hstack([train_tfidf, train_additional_features])\n",
    "test_feat_vect = hstack([test_tfidf, test_additional_features])\n",
    "\n",
    "save_npz('../data/processed/train_feat_vect.npz', train_feat_vect)\n",
    "save_npz('../data/processed/test_feat_vect.npz', test_feat_vect)\n"
   ]
  },
  {
   "cell_type": "code",
   "execution_count": null,
   "metadata": {},
   "outputs": [],
   "source": [
    "# Using Logistic Regression with VADER sentiment scores and tweet length as features\n",
    "\n",
    "# Load processed training and test data\n",
    "train_df = load_npz('../data/processed/train_feat_vect.npz')\n",
    "test_df = load_npz('../data/processed/test_feat_vect.npz')\n",
    "\n",
    "\n",
    "# Load labels\n",
    "y_train = np.load('../data/processed/y_train.npy')\n",
    "y_test = np.load('../data/processed/y_test.npy')\n",
    "\n",
    "log_reg = LogisticRegression(class_weight='balanced', random_state=42, max_iter=1000)\n",
    "\n",
    "log_reg.fit(train_df, y_train)\n",
    "\n",
    "# Predict on the test set\n",
    "y_pred_log_reg = log_reg.predict(test_df)\n",
    "\n",
    "# Evaluate the Logistic Regression model\n",
    "print(\"Logistic Regression Performance:\")\n",
    "print(f\"Accuracy: {accuracy_score(y_test, y_pred_log_reg)}\")\n",
    "print(\"Classification Report:\")\n",
    "print(classification_report(y_test, y_pred_log_reg))\n",
    "print(\"Confusion Matrix:\")\n",
    "print(confusion_matrix(y_test, y_pred_log_reg))"
   ]
  },
  {
   "cell_type": "code",
   "execution_count": 41,
   "metadata": {},
   "outputs": [
    {
     "data": {
      "text/plain": [
       "['../models/logistic_regression_model.pkl']"
      ]
     },
     "execution_count": 41,
     "metadata": {},
     "output_type": "execute_result"
    }
   ],
   "source": [
    "\n",
    "joblib.dump(log_reg, '../models/logistic_regression_model.pkl')"
   ]
  }
 ],
 "metadata": {
  "kernelspec": {
   "display_name": ".venv",
   "language": "python",
   "name": "python3"
  },
  "language_info": {
   "codemirror_mode": {
    "name": "ipython",
    "version": 3
   },
   "file_extension": ".py",
   "mimetype": "text/x-python",
   "name": "python",
   "nbconvert_exporter": "python",
   "pygments_lexer": "ipython3",
   "version": "3.12.3"
  }
 },
 "nbformat": 4,
 "nbformat_minor": 2
}
